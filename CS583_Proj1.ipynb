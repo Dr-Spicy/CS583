{
 "cells": [
  {
   "cell_type": "code",
   "execution_count": 1,
   "metadata": {
    "collapsed": true
   },
   "outputs": [],
   "source": [
    "import numpy as np\n",
    "import scipy.sparse as sp\n",
    "import pandas as pd"
   ]
  },
  {
   "cell_type": "code",
   "execution_count": 2,
   "metadata": {
    "collapsed": false
   },
   "outputs": [
    {
     "data": {
      "text/plain": [
       "['MIS(10) = 0.43',\n",
       " 'MIS(20) = 0.30',\n",
       " 'MIS(30) = 0.30',\n",
       " 'MIS(40) = 0.40',\n",
       " 'MIS(50) = 0.40',\n",
       " 'MIS(60) = 0.30',\n",
       " 'MIS(70) = 0.20',\n",
       " 'MIS(80) = 0.20',\n",
       " 'MIS(90) = 0.20',\n",
       " 'MIS(100) = 0.10',\n",
       " 'MIS(120) = 0.20',\n",
       " 'MIS(140) = 0.15',\n",
       " 'SDC = 0.1',\n",
       " 'cannot_be_together: {20, 40}, {70, 80}',\n",
       " 'must-have: 20 or 40 or 50']"
      ]
     },
     "execution_count": 2,
     "metadata": {},
     "output_type": "execute_result"
    }
   ],
   "source": [
    "argl = [i.rstrip(\"\\n\") for i in open(\"proj1_parameter-file.txt\", \"r\")]\n",
    "argl"
   ]
  },
  {
   "cell_type": "code",
   "execution_count": 3,
   "metadata": {
    "collapsed": false
   },
   "outputs": [
    {
     "data": {
      "text/plain": [
       "({10: 0.43,\n",
       "  20: 0.3,\n",
       "  30: 0.3,\n",
       "  40: 0.4,\n",
       "  50: 0.4,\n",
       "  60: 0.3,\n",
       "  70: 0.2,\n",
       "  80: 0.2,\n",
       "  90: 0.2,\n",
       "  100: 0.1,\n",
       "  120: 0.2,\n",
       "  140: 0.15},\n",
       " 0.1,\n",
       " [[40, 20], [80, 70]],\n",
       " [20, 40, 50])"
      ]
     },
     "execution_count": 3,
     "metadata": {},
     "output_type": "execute_result"
    }
   ],
   "source": [
    "ms = dict()\n",
    "for i in argl:\n",
    "    if i.startswith(\"MIS\"):\n",
    "        j = i.split(\" = \")\n",
    "        ms.update({int(j[0][4:-1]): float(j[1])})\n",
    "    elif i.startswith(\"SDC\"):\n",
    "        sdc = float(i.split(\"=\")[1])\n",
    "    elif i.startswith(\"cannot_be_together\"):\n",
    "        x_exclude = [list(j) for j in eval(i.split(\":\")[1])]\n",
    "    elif i.startswith(\"must\"):\n",
    "        x_must = [int(j) for j in i.split(\":\")[1].split(\"or\")]\n",
    "ms, sdc, x_exclude, x_must"
   ]
  },
  {
   "cell_type": "code",
   "execution_count": 4,
   "metadata": {
    "collapsed": false,
    "scrolled": false
   },
   "outputs": [
    {
     "data": {
      "text/html": [
       "<div>\n",
       "<table border=\"1\" class=\"dataframe\">\n",
       "  <thead>\n",
       "    <tr style=\"text-align: right;\">\n",
       "      <th></th>\n",
       "      <th>index</th>\n",
       "      <th>MIS</th>\n",
       "    </tr>\n",
       "  </thead>\n",
       "  <tbody>\n",
       "    <tr>\n",
       "      <th>0</th>\n",
       "      <td>100</td>\n",
       "      <td>0.10</td>\n",
       "    </tr>\n",
       "    <tr>\n",
       "      <th>1</th>\n",
       "      <td>140</td>\n",
       "      <td>0.15</td>\n",
       "    </tr>\n",
       "    <tr>\n",
       "      <th>2</th>\n",
       "      <td>70</td>\n",
       "      <td>0.20</td>\n",
       "    </tr>\n",
       "    <tr>\n",
       "      <th>3</th>\n",
       "      <td>80</td>\n",
       "      <td>0.20</td>\n",
       "    </tr>\n",
       "    <tr>\n",
       "      <th>4</th>\n",
       "      <td>90</td>\n",
       "      <td>0.20</td>\n",
       "    </tr>\n",
       "    <tr>\n",
       "      <th>5</th>\n",
       "      <td>120</td>\n",
       "      <td>0.20</td>\n",
       "    </tr>\n",
       "    <tr>\n",
       "      <th>6</th>\n",
       "      <td>20</td>\n",
       "      <td>0.30</td>\n",
       "    </tr>\n",
       "    <tr>\n",
       "      <th>7</th>\n",
       "      <td>30</td>\n",
       "      <td>0.30</td>\n",
       "    </tr>\n",
       "    <tr>\n",
       "      <th>8</th>\n",
       "      <td>60</td>\n",
       "      <td>0.30</td>\n",
       "    </tr>\n",
       "    <tr>\n",
       "      <th>9</th>\n",
       "      <td>40</td>\n",
       "      <td>0.40</td>\n",
       "    </tr>\n",
       "    <tr>\n",
       "      <th>10</th>\n",
       "      <td>50</td>\n",
       "      <td>0.40</td>\n",
       "    </tr>\n",
       "    <tr>\n",
       "      <th>11</th>\n",
       "      <td>10</td>\n",
       "      <td>0.43</td>\n",
       "    </tr>\n",
       "  </tbody>\n",
       "</table>\n",
       "</div>"
      ],
      "text/plain": [
       "    index   MIS\n",
       "0     100  0.10\n",
       "1     140  0.15\n",
       "2      70  0.20\n",
       "3      80  0.20\n",
       "4      90  0.20\n",
       "5     120  0.20\n",
       "6      20  0.30\n",
       "7      30  0.30\n",
       "8      60  0.30\n",
       "9      40  0.40\n",
       "10     50  0.40\n",
       "11     10  0.43"
      ]
     },
     "execution_count": 4,
     "metadata": {},
     "output_type": "execute_result"
    }
   ],
   "source": [
    "ms = pd.Series(ms, name = \"MIS\").sort_values().reset_index()\n",
    "ms"
   ]
  },
  {
   "cell_type": "code",
   "execution_count": 5,
   "metadata": {
    "collapsed": false
   },
   "outputs": [
    {
     "data": {
      "text/plain": [
       "({0: 100,\n",
       "  1: 140,\n",
       "  2: 70,\n",
       "  3: 80,\n",
       "  4: 90,\n",
       "  5: 120,\n",
       "  6: 20,\n",
       "  7: 30,\n",
       "  8: 60,\n",
       "  9: 40,\n",
       "  10: 50,\n",
       "  11: 10},\n",
       " {10: 11,\n",
       "  20: 6,\n",
       "  30: 7,\n",
       "  40: 9,\n",
       "  50: 10,\n",
       "  60: 8,\n",
       "  70: 2,\n",
       "  80: 3,\n",
       "  90: 4,\n",
       "  100: 0,\n",
       "  120: 5,\n",
       "  140: 1})"
      ]
     },
     "execution_count": 5,
     "metadata": {},
     "output_type": "execute_result"
    }
   ],
   "source": [
    "id_dict = ms[\"index\"].to_dict()\n",
    "id_dict_inv = {val: key for key, val in id_dict.items()}\n",
    "id_dict, id_dict_inv"
   ]
  },
  {
   "cell_type": "code",
   "execution_count": 6,
   "metadata": {
    "collapsed": false
   },
   "outputs": [
    {
     "data": {
      "text/plain": [
       "{0: 0.10000000000000001,\n",
       " 1: 0.14999999999999999,\n",
       " 2: 0.20000000000000001,\n",
       " 3: 0.20000000000000001,\n",
       " 4: 0.20000000000000001,\n",
       " 5: 0.20000000000000001,\n",
       " 6: 0.29999999999999999,\n",
       " 7: 0.29999999999999999,\n",
       " 8: 0.29999999999999999,\n",
       " 9: 0.40000000000000002,\n",
       " 10: 0.40000000000000002,\n",
       " 11: 0.42999999999999999}"
      ]
     },
     "execution_count": 6,
     "metadata": {},
     "output_type": "execute_result"
    }
   ],
   "source": [
    "ms_dict = ms[\"MIS\"].to_dict()\n",
    "ms_dict"
   ]
  },
  {
   "cell_type": "code",
   "execution_count": 7,
   "metadata": {
    "collapsed": false
   },
   "outputs": [
    {
     "data": {
      "text/plain": [
       "0                   {20, 30, 80, 70, 50, 90}\n",
       "1                           {20, 10, 80, 70}\n",
       "2                               {10, 20, 80}\n",
       "3                               {20, 30, 80}\n",
       "4                                   {20, 80}\n",
       "5    {20, 30, 80, 70, 50, 90, 100, 120, 140}\n",
       "Name: 0, dtype: object"
      ]
     },
     "execution_count": 7,
     "metadata": {},
     "output_type": "execute_result"
    }
   ],
   "source": [
    "s = pd.read_csv(\"proj1_input-data.txt\", header = None, sep = \"\\t\",squeeze = True)\n",
    "s"
   ]
  },
  {
   "cell_type": "code",
   "execution_count": 8,
   "metadata": {
    "collapsed": false
   },
   "outputs": [
    {
     "data": {
      "text/plain": [
       "array([[0, 0, 1, 1, 1, 0, 1, 1, 0, 0, 1, 0],\n",
       "       [0, 0, 1, 1, 0, 0, 1, 0, 0, 0, 0, 1],\n",
       "       [0, 0, 0, 1, 0, 0, 1, 0, 0, 0, 0, 1],\n",
       "       [0, 0, 0, 1, 0, 0, 1, 1, 0, 0, 0, 0],\n",
       "       [0, 0, 0, 1, 0, 0, 1, 0, 0, 0, 0, 0],\n",
       "       [1, 1, 1, 1, 1, 1, 1, 1, 0, 0, 1, 0]])"
      ]
     },
     "execution_count": 8,
     "metadata": {},
     "output_type": "execute_result"
    }
   ],
   "source": [
    "da = s.str[1:-1].str.get_dummies(sep = \", \").rename(columns = lambda x: id_dict_inv[int(x)]).reindex(columns = ms.index, fill_value = 0).values\n",
    "da"
   ]
  },
  {
   "cell_type": "code",
   "execution_count": 9,
   "metadata": {
    "collapsed": true
   },
   "outputs": [],
   "source": [
    "def mis(L):\n",
    "    op = [min([ms_dict[j] for j in i]) for i in L]\n",
    "    return(op)"
   ]
  },
  {
   "cell_type": "code",
   "execution_count": 10,
   "metadata": {
    "collapsed": false
   },
   "outputs": [],
   "source": [
    "def sup(L):\n",
    "    op = np.vstack(da[:, i].all(axis = 1) for i in L).mean(axis = 1)\n",
    "    return(op)"
   ]
  },
  {
   "cell_type": "code",
   "execution_count": 13,
   "metadata": {
    "collapsed": false
   },
   "outputs": [
    {
     "data": {
      "text/plain": [
       "(0, array([[ 0],\n",
       "        [ 1],\n",
       "        [ 2],\n",
       "        [ 3],\n",
       "        [ 4],\n",
       "        [ 5],\n",
       "        [ 6],\n",
       "        [ 7],\n",
       "        [10],\n",
       "        [11]]))"
      ]
     },
     "execution_count": 13,
     "metadata": {},
     "output_type": "execute_result"
    }
   ],
   "source": [
    "Li = (da.mean(axis = 0) > ms[\"MIS\"].values).argmax()\n",
    "L = np.array([ms.loc[Li:, \"MIS\"].index[da[:, Li:].mean(axis = 0) > ms[\"MIS\"][Li]]]).T\n",
    "Li, L"
   ]
  },
  {
   "cell_type": "code",
   "execution_count": 14,
   "metadata": {
    "collapsed": false
   },
   "outputs": [
    {
     "data": {
      "text/plain": [
       "(array([ 0.16666667,  0.16666667,  0.5       ,  1.        ,  0.33333333,\n",
       "         0.16666667,  1.        ,  0.5       ,  0.33333333,  0.33333333]),\n",
       " [0.10000000000000001,\n",
       "  0.14999999999999999,\n",
       "  0.20000000000000001,\n",
       "  0.20000000000000001,\n",
       "  0.20000000000000001,\n",
       "  0.20000000000000001,\n",
       "  0.29999999999999999,\n",
       "  0.29999999999999999,\n",
       "  0.40000000000000002,\n",
       "  0.42999999999999999])"
      ]
     },
     "execution_count": 14,
     "metadata": {},
     "output_type": "execute_result"
    }
   ],
   "source": [
    "sup(L), mis(L)"
   ]
  },
  {
   "cell_type": "code",
   "execution_count": 15,
   "metadata": {
    "collapsed": false
   },
   "outputs": [
    {
     "data": {
      "text/plain": [
       "[array([[0],\n",
       "        [1],\n",
       "        [2],\n",
       "        [3],\n",
       "        [4],\n",
       "        [6],\n",
       "        [7]])]"
      ]
     },
     "execution_count": 15,
     "metadata": {},
     "output_type": "execute_result"
    }
   ],
   "source": [
    "F = [L[sup(L) > mis(L)]]\n",
    "F"
   ]
  },
  {
   "cell_type": "code",
   "execution_count": 16,
   "metadata": {
    "collapsed": true
   },
   "outputs": [],
   "source": [
    "def pair_sup_mis(x):\n",
    "    x_t = x[:, np.newaxis]\n",
    "    x_sup = sup(x_t)\n",
    "    x_mis = mis(x_t)\n",
    "    x_sup_t = x_sup[:, np.newaxis]\n",
    "    C = sp.coo_matrix(np.triu((x_sup_t >= x_mis).T & (np.abs(x_sup_t - x_sup) < sdc), 1)).nonzero()\n",
    "    op = np.array([x[i] for i in C]).T\n",
    "    return(op)\n",
    "def append_set(C, base):\n",
    "    op = np.hstack([np.tile(base, (C.shape[0], 1)), C])\n",
    "    return(op)\n",
    "def reduce_candidate(C):\n",
    "    L_id = pd.DataFrame({0: 0}, pd.MultiIndex.from_tuples(F[-1].tolist()))\n",
    "    C_id = pd.MultiIndex.from_tuples(C.tolist())\n",
    "    op = C[~np.hstack([pd.DataFrame(index = C_id.droplevel(i)).join(L_id).values for i in range(C.shape[1])]).any(axis = 1)]\n",
    "    return(op)\n",
    "def l2_candidate_gen(L):\n",
    "    C = pair_sup_mis(L.T[0])\n",
    "    C = C[np.in1d(C[:,0], F[0])]\n",
    "    return(C)"
   ]
  },
  {
   "cell_type": "code",
   "execution_count": 17,
   "metadata": {
    "collapsed": false,
    "scrolled": true
   },
   "outputs": [
    {
     "data": {
      "text/plain": [
       "array([[ 0,  1],\n",
       "       [ 0,  5],\n",
       "       [ 1,  5],\n",
       "       [ 2,  7],\n",
       "       [ 3,  6],\n",
       "       [ 4, 10],\n",
       "       [ 4, 11]])"
      ]
     },
     "execution_count": 17,
     "metadata": {},
     "output_type": "execute_result"
    }
   ],
   "source": [
    "C = l2_candidate_gen(L)\n",
    "C"
   ]
  },
  {
   "cell_type": "code",
   "execution_count": 18,
   "metadata": {
    "collapsed": false
   },
   "outputs": [
    {
     "data": {
      "text/plain": [
       "array([[0],\n",
       "       [1],\n",
       "       [2],\n",
       "       [3],\n",
       "       [4],\n",
       "       [6],\n",
       "       [7]])"
      ]
     },
     "execution_count": 18,
     "metadata": {},
     "output_type": "execute_result"
    }
   ],
   "source": [
    "F[-1]"
   ]
  },
  {
   "cell_type": "code",
   "execution_count": 19,
   "metadata": {
    "collapsed": false,
    "scrolled": true
   },
   "outputs": [
    {
     "data": {
      "text/plain": [
       "array([[ 0,  1],\n",
       "       [ 0,  5],\n",
       "       [ 1,  5],\n",
       "       [ 2,  7],\n",
       "       [ 3,  6],\n",
       "       [ 4, 10]])"
      ]
     },
     "execution_count": 19,
     "metadata": {},
     "output_type": "execute_result"
    }
   ],
   "source": [
    "F.append(C[sup(C) >= mis(C)])\n",
    "F[-1]"
   ]
  },
  {
   "cell_type": "code",
   "execution_count": 20,
   "metadata": {
    "collapsed": false,
    "scrolled": true
   },
   "outputs": [
    {
     "data": {
      "text/plain": [
       "0     1\n",
       "0     5\n",
       "1     5\n",
       "2     7\n",
       "3     6\n",
       "4    10\n",
       "dtype: int64"
      ]
     },
     "execution_count": 20,
     "metadata": {},
     "output_type": "execute_result"
    }
   ],
   "source": [
    "Ls = pd.Series(F[-1][:, -1], pd.MultiIndex.from_tuples(F[-1][:, :-1].tolist()))\n",
    "Ls"
   ]
  },
  {
   "cell_type": "code",
   "execution_count": 21,
   "metadata": {
    "collapsed": false
   },
   "outputs": [
    {
     "data": {
      "text/plain": [
       "(1, 3)"
      ]
     },
     "execution_count": 21,
     "metadata": {},
     "output_type": "execute_result"
    }
   ],
   "source": [
    "C = np.vstack([append_set(pair_sup_mis(group.values), name) for name, group in Ls.groupby(level = np.arange(F[-1].shape[1] - 1))])\n",
    "C.shape"
   ]
  },
  {
   "cell_type": "code",
   "execution_count": 22,
   "metadata": {
    "collapsed": false
   },
   "outputs": [
    {
     "data": {
      "text/plain": [
       "array([[0, 1, 5]])"
      ]
     },
     "execution_count": 22,
     "metadata": {},
     "output_type": "execute_result"
    }
   ],
   "source": [
    "reduce_candidate(C)"
   ]
  },
  {
   "cell_type": "code",
   "execution_count": 23,
   "metadata": {
    "collapsed": false
   },
   "outputs": [
    {
     "data": {
      "text/plain": [
       "[[[100], [140], [70], [80], [90], [20], [30]],\n",
       " [[100, 140], [100, 120], [140, 120], [70, 30], [80, 20], [90, 50]]]"
      ]
     },
     "execution_count": 23,
     "metadata": {},
     "output_type": "execute_result"
    }
   ],
   "source": [
    "[[[id_dict[k] for k in j] for j in i] for i in F]"
   ]
  },
  {
   "cell_type": "code",
   "execution_count": null,
   "metadata": {
    "collapsed": true
   },
   "outputs": [],
   "source": []
  }
 ],
 "metadata": {
  "anaconda-cloud": {},
  "kernelspec": {
   "display_name": "Python [Root]",
   "language": "python",
   "name": "Python [Root]"
  },
  "language_info": {
   "codemirror_mode": {
    "name": "ipython",
    "version": 3
   },
   "file_extension": ".py",
   "mimetype": "text/x-python",
   "name": "python",
   "nbconvert_exporter": "python",
   "pygments_lexer": "ipython3",
   "version": "3.5.2"
  }
 },
 "nbformat": 4,
 "nbformat_minor": 1
}

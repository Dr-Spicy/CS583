{
 "cells": [
  {
   "cell_type": "code",
   "execution_count": 1,
   "metadata": {
    "collapsed": true
   },
   "outputs": [],
   "source": [
    "import numpy as np\n",
    "import scipy.sparse as sp\n",
    "import pandas as pd"
   ]
  },
  {
   "cell_type": "code",
   "execution_count": 2,
   "metadata": {
    "collapsed": true
   },
   "outputs": [],
   "source": [
    "file_args = \"proj1_parameter-file.txt\"\n",
    "file_data = \"proj1_input-data.txt\"\n",
    "#file_args = \"proj1_ex13_args.txt\"\n",
    "#file_data = \"proj1_ex13_data.txt\""
   ]
  },
  {
   "cell_type": "code",
   "execution_count": 3,
   "metadata": {
    "collapsed": false
   },
   "outputs": [
    {
     "data": {
      "text/plain": [
       "({'10': 0.43,\n",
       "  '100': 0.1,\n",
       "  '120': 0.2,\n",
       "  '140': 0.15,\n",
       "  '20': 0.3,\n",
       "  '30': 0.3,\n",
       "  '40': 0.4,\n",
       "  '50': 0.4,\n",
       "  '60': 0.3,\n",
       "  '70': 0.2,\n",
       "  '80': 0.2,\n",
       "  '90': 0.2},\n",
       " 0.1,\n",
       " [['20', '40'], ['70', '80']],\n",
       " ['20', '40', '50'])"
      ]
     },
     "execution_count": 3,
     "metadata": {},
     "output_type": "execute_result"
    }
   ],
   "source": [
    "ms = dict()\n",
    "sdc = 1\n",
    "x_exclude = []\n",
    "x_must = []\n",
    "for i in open(file_args, \"r\"):\n",
    "    i = i.rstrip(\"\\n\")\n",
    "    if i.startswith(\"MIS\"):\n",
    "        j = i.split(\" = \")\n",
    "        ms.update({j[0][4:-1]: float(j[1])})\n",
    "    elif i.startswith(\"SDC\"):\n",
    "        sdc = float(i.split(\"=\")[1])\n",
    "    elif i.startswith(\"cannot_be_together\"):\n",
    "        x_exclude = [j.split(\", \") for j in i.split(\": \")[1][1:-1].split(\"}, {\")]\n",
    "    elif i.startswith(\"must\"):\n",
    "        x_must = [j for j in i.split(\": \")[1].split(\" or \")]\n",
    "ms, sdc, x_exclude, x_must"
   ]
  },
  {
   "cell_type": "code",
   "execution_count": 4,
   "metadata": {
    "collapsed": false,
    "scrolled": false
   },
   "outputs": [
    {
     "data": {
      "text/html": [
       "<div>\n",
       "<table border=\"1\" class=\"dataframe\">\n",
       "  <thead>\n",
       "    <tr style=\"text-align: right;\">\n",
       "      <th></th>\n",
       "      <th>index</th>\n",
       "      <th>MIS</th>\n",
       "    </tr>\n",
       "  </thead>\n",
       "  <tbody>\n",
       "    <tr>\n",
       "      <th>0</th>\n",
       "      <td>100</td>\n",
       "      <td>0.10</td>\n",
       "    </tr>\n",
       "    <tr>\n",
       "      <th>1</th>\n",
       "      <td>140</td>\n",
       "      <td>0.15</td>\n",
       "    </tr>\n",
       "    <tr>\n",
       "      <th>2</th>\n",
       "      <td>120</td>\n",
       "      <td>0.20</td>\n",
       "    </tr>\n",
       "    <tr>\n",
       "      <th>3</th>\n",
       "      <td>70</td>\n",
       "      <td>0.20</td>\n",
       "    </tr>\n",
       "    <tr>\n",
       "      <th>4</th>\n",
       "      <td>80</td>\n",
       "      <td>0.20</td>\n",
       "    </tr>\n",
       "    <tr>\n",
       "      <th>5</th>\n",
       "      <td>90</td>\n",
       "      <td>0.20</td>\n",
       "    </tr>\n",
       "    <tr>\n",
       "      <th>6</th>\n",
       "      <td>20</td>\n",
       "      <td>0.30</td>\n",
       "    </tr>\n",
       "    <tr>\n",
       "      <th>7</th>\n",
       "      <td>30</td>\n",
       "      <td>0.30</td>\n",
       "    </tr>\n",
       "    <tr>\n",
       "      <th>8</th>\n",
       "      <td>60</td>\n",
       "      <td>0.30</td>\n",
       "    </tr>\n",
       "    <tr>\n",
       "      <th>9</th>\n",
       "      <td>40</td>\n",
       "      <td>0.40</td>\n",
       "    </tr>\n",
       "    <tr>\n",
       "      <th>10</th>\n",
       "      <td>50</td>\n",
       "      <td>0.40</td>\n",
       "    </tr>\n",
       "    <tr>\n",
       "      <th>11</th>\n",
       "      <td>10</td>\n",
       "      <td>0.43</td>\n",
       "    </tr>\n",
       "  </tbody>\n",
       "</table>\n",
       "</div>"
      ],
      "text/plain": [
       "   index   MIS\n",
       "0    100  0.10\n",
       "1    140  0.15\n",
       "2    120  0.20\n",
       "3     70  0.20\n",
       "4     80  0.20\n",
       "5     90  0.20\n",
       "6     20  0.30\n",
       "7     30  0.30\n",
       "8     60  0.30\n",
       "9     40  0.40\n",
       "10    50  0.40\n",
       "11    10  0.43"
      ]
     },
     "execution_count": 4,
     "metadata": {},
     "output_type": "execute_result"
    }
   ],
   "source": [
    "ms = pd.Series(ms, name = \"MIS\").sort_values().reset_index()\n",
    "ms"
   ]
  },
  {
   "cell_type": "code",
   "execution_count": 5,
   "metadata": {
    "collapsed": false
   },
   "outputs": [
    {
     "data": {
      "text/plain": [
       "({0: '100',\n",
       "  1: '140',\n",
       "  2: '120',\n",
       "  3: '70',\n",
       "  4: '80',\n",
       "  5: '90',\n",
       "  6: '20',\n",
       "  7: '30',\n",
       "  8: '60',\n",
       "  9: '40',\n",
       "  10: '50',\n",
       "  11: '10'},\n",
       " [6, 9, 10],\n",
       " [(6, 9), (3, 4)])"
      ]
     },
     "execution_count": 5,
     "metadata": {},
     "output_type": "execute_result"
    }
   ],
   "source": [
    "id_dict = ms[\"index\"].to_dict()\n",
    "id_dict_inv = {val: key for key, val in id_dict.items()}\n",
    "x_must = [id_dict_inv[i] for i in x_must]\n",
    "x_exclude = [tuple(np.sort([id_dict_inv[j] for j in i])) for i in x_exclude]\n",
    "id_dict, x_must, x_exclude"
   ]
  },
  {
   "cell_type": "code",
   "execution_count": 6,
   "metadata": {
    "collapsed": false
   },
   "outputs": [
    {
     "data": {
      "text/plain": [
       "{0: 0.10000000000000001,\n",
       " 1: 0.14999999999999999,\n",
       " 2: 0.20000000000000001,\n",
       " 3: 0.20000000000000001,\n",
       " 4: 0.20000000000000001,\n",
       " 5: 0.20000000000000001,\n",
       " 6: 0.29999999999999999,\n",
       " 7: 0.29999999999999999,\n",
       " 8: 0.29999999999999999,\n",
       " 9: 0.40000000000000002,\n",
       " 10: 0.40000000000000002,\n",
       " 11: 0.42999999999999999}"
      ]
     },
     "execution_count": 6,
     "metadata": {},
     "output_type": "execute_result"
    }
   ],
   "source": [
    "ms_dict = ms[\"MIS\"].to_dict()\n",
    "ms_dict"
   ]
  },
  {
   "cell_type": "code",
   "execution_count": 7,
   "metadata": {
    "collapsed": false
   },
   "outputs": [
    {
     "data": {
      "text/plain": [
       "0                   {20, 30, 80, 70, 50, 90}\n",
       "1                           {20, 10, 80, 70}\n",
       "2                               {10, 20, 80}\n",
       "3                               {20, 30, 80}\n",
       "4                                   {20, 80}\n",
       "5    {20, 30, 80, 70, 50, 90, 100, 120, 140}\n",
       "Name: 0, dtype: object"
      ]
     },
     "execution_count": 7,
     "metadata": {},
     "output_type": "execute_result"
    }
   ],
   "source": [
    "s = pd.read_csv(file_data, header = None, sep = \"\\t\",squeeze = True)\n",
    "s"
   ]
  },
  {
   "cell_type": "code",
   "execution_count": 8,
   "metadata": {
    "collapsed": false
   },
   "outputs": [
    {
     "data": {
      "text/plain": [
       "array([[0, 0, 0, 1, 1, 1, 1, 1, 0, 0, 1, 0],\n",
       "       [0, 0, 0, 1, 1, 0, 1, 0, 0, 0, 0, 1],\n",
       "       [0, 0, 0, 0, 1, 0, 1, 0, 0, 0, 0, 1],\n",
       "       [0, 0, 0, 0, 1, 0, 1, 1, 0, 0, 0, 0],\n",
       "       [0, 0, 0, 0, 1, 0, 1, 0, 0, 0, 0, 0],\n",
       "       [1, 1, 1, 1, 1, 1, 1, 1, 0, 0, 1, 0]])"
      ]
     },
     "execution_count": 8,
     "metadata": {},
     "output_type": "execute_result"
    }
   ],
   "source": [
    "da = s.str[1:-1].str.get_dummies(sep = \", \").reindex(columns = ms[\"index\"], fill_value = 0).values\n",
    "da"
   ]
  },
  {
   "cell_type": "code",
   "execution_count": 9,
   "metadata": {
    "collapsed": false
   },
   "outputs": [
    {
     "data": {
      "text/plain": [
       "array([ 0.16666667,  0.16666667,  0.16666667,  0.5       ,  1.        ,\n",
       "        0.33333333,  1.        ,  0.5       ,  0.        ,  0.        ,\n",
       "        0.33333333,  0.33333333])"
      ]
     },
     "execution_count": 9,
     "metadata": {},
     "output_type": "execute_result"
    }
   ],
   "source": [
    "Isup = da.mean(axis = 0)\n",
    "Isup"
   ]
  },
  {
   "cell_type": "code",
   "execution_count": 10,
   "metadata": {
    "collapsed": false
   },
   "outputs": [
    {
     "data": {
      "text/plain": [
       "{(0,): 0.16666666666666666,\n",
       " (1,): 0.16666666666666666,\n",
       " (2,): 0.16666666666666666,\n",
       " (3,): 0.5,\n",
       " (4,): 1.0,\n",
       " (5,): 0.33333333333333331,\n",
       " (6,): 1.0,\n",
       " (7,): 0.5,\n",
       " (8,): 0.0,\n",
       " (9,): 0.0,\n",
       " (10,): 0.33333333333333331,\n",
       " (11,): 0.33333333333333331}"
      ]
     },
     "execution_count": 10,
     "metadata": {},
     "output_type": "execute_result"
    }
   ],
   "source": [
    "sup_dict = dict(zip([(i,) for i in range(len(ms))], Isup))\n",
    "sup_dict"
   ]
  },
  {
   "cell_type": "code",
   "execution_count": 11,
   "metadata": {
    "collapsed": false
   },
   "outputs": [
    {
     "data": {
      "text/plain": [
       "(0, [0, 1, 2, 3, 4, 5, 6, 7, 10, 11])"
      ]
     },
     "execution_count": 11,
     "metadata": {},
     "output_type": "execute_result"
    }
   ],
   "source": [
    "Li = (Isup > ms[\"MIS\"]).argmax()\n",
    "L = [i for i in range(Li, ms.shape[0]) if Isup[i] > ms[\"MIS\"][Li]]\n",
    "Li, L"
   ]
  },
  {
   "cell_type": "code",
   "execution_count": 12,
   "metadata": {
    "collapsed": false
   },
   "outputs": [
    {
     "data": {
      "text/plain": [
       "[[(0,), (1,), (3,), (4,), (5,), (6,), (7,)]]"
      ]
     },
     "execution_count": 12,
     "metadata": {},
     "output_type": "execute_result"
    }
   ],
   "source": [
    "F = [[(i,) for i in np.where(Isup > ms[\"MIS\"])[0]]]\n",
    "F"
   ]
  },
  {
   "cell_type": "code",
   "execution_count": 13,
   "metadata": {
    "collapsed": true
   },
   "outputs": [],
   "source": [
    "def mis(xL):\n",
    "    op = [ms_dict[i[0]] for i in xL]\n",
    "    return(op)\n",
    "def sup(xL):\n",
    "    op = np.mean([da[:, i].all(axis = 1) for i in xL], axis = 1)\n",
    "    return(op) \n",
    "def frequent(C):\n",
    "    C_sup = sup(C)\n",
    "    sup_dict.update(dict(zip(C, C_sup)))\n",
    "    op = [C[i] for i in np.where(C_sup >= mis(C))[0]]\n",
    "    C_dropfirst = set(tuple(i[1:]) for i in C)\n",
    "    sup_dict.update(dict(zip(C_dropfirst, sup(C_dropfirst))))\n",
    "    return(op)\n",
    "def pair_sup_mis(x):\n",
    "    x_t = x[:, np.newaxis]\n",
    "    x_sup = sup(x_t)\n",
    "    x_mis = mis(x_t)\n",
    "    x_sup_t = x_sup[:, np.newaxis]\n",
    "    C = sp.coo_matrix(np.triu((x_sup_t >= x_mis).T & (np.abs(x_sup_t - x_sup) < sdc), 1)).nonzero()\n",
    "    op = list(zip(x[C[0]], x[C[1]]))\n",
    "    return(op)\n",
    "def append_set(C, base):\n",
    "    if len(C):\n",
    "        op = [tuple(i) for i in np.hstack([np.tile(base, (len(C), 1)), C])]\n",
    "    else:\n",
    "        op = []\n",
    "    return(op)\n",
    "def prune_candidate(C):\n",
    "    op = [C[i] for i in np.where(np.all([[any(set(k).issubset(j) for k in F[-1]) for j in np.delete(C, i, axis = 1)] for i in range(1, len(C[0]))], axis = 0))[0]]\n",
    "    return(op)\n",
    "def id_name(xL):\n",
    "    op = [tuple(id_dict[j] for j in i) for i in xL]\n",
    "    return(op)"
   ]
  },
  {
   "cell_type": "code",
   "execution_count": 14,
   "metadata": {
    "collapsed": false,
    "scrolled": true
   },
   "outputs": [
    {
     "data": {
      "text/plain": [
       "[(0, 1), (0, 2), (1, 2), (3, 7), (4, 6), (5, 10), (5, 11)]"
      ]
     },
     "execution_count": 14,
     "metadata": {},
     "output_type": "execute_result"
    }
   ],
   "source": [
    "C = [i for i in pair_sup_mis(np.array(L)) if i[0] in np.array(F[0]).T[0]]\n",
    "C"
   ]
  },
  {
   "cell_type": "code",
   "execution_count": 15,
   "metadata": {
    "collapsed": false,
    "scrolled": true
   },
   "outputs": [
    {
     "data": {
      "text/plain": [
       "[[(0,), (1,), (3,), (4,), (5,), (6,), (7,)],\n",
       " [(0, 1), (0, 2), (1, 2), (3, 7), (4, 6), (5, 10)]]"
      ]
     },
     "execution_count": 15,
     "metadata": {},
     "output_type": "execute_result"
    }
   ],
   "source": [
    "F.append(frequent(C))\n",
    "F"
   ]
  },
  {
   "cell_type": "code",
   "execution_count": 16,
   "metadata": {
    "collapsed": false,
    "scrolled": true
   },
   "outputs": [
    {
     "data": {
      "text/html": [
       "<div>\n",
       "<table border=\"1\" class=\"dataframe\">\n",
       "  <thead>\n",
       "    <tr style=\"text-align: right;\">\n",
       "      <th></th>\n",
       "      <th>0</th>\n",
       "      <th>1</th>\n",
       "    </tr>\n",
       "  </thead>\n",
       "  <tbody>\n",
       "    <tr>\n",
       "      <th>0</th>\n",
       "      <td>0</td>\n",
       "      <td>1</td>\n",
       "    </tr>\n",
       "    <tr>\n",
       "      <th>1</th>\n",
       "      <td>0</td>\n",
       "      <td>2</td>\n",
       "    </tr>\n",
       "    <tr>\n",
       "      <th>2</th>\n",
       "      <td>1</td>\n",
       "      <td>2</td>\n",
       "    </tr>\n",
       "    <tr>\n",
       "      <th>3</th>\n",
       "      <td>3</td>\n",
       "      <td>7</td>\n",
       "    </tr>\n",
       "    <tr>\n",
       "      <th>4</th>\n",
       "      <td>4</td>\n",
       "      <td>6</td>\n",
       "    </tr>\n",
       "    <tr>\n",
       "      <th>5</th>\n",
       "      <td>5</td>\n",
       "      <td>10</td>\n",
       "    </tr>\n",
       "  </tbody>\n",
       "</table>\n",
       "</div>"
      ],
      "text/plain": [
       "   0   1\n",
       "0  0   1\n",
       "1  0   2\n",
       "2  1   2\n",
       "3  3   7\n",
       "4  4   6\n",
       "5  5  10"
      ]
     },
     "execution_count": 16,
     "metadata": {},
     "output_type": "execute_result"
    }
   ],
   "source": [
    "Ls = pd.DataFrame(F[-1])\n",
    "Ls"
   ]
  },
  {
   "cell_type": "code",
   "execution_count": 17,
   "metadata": {
    "collapsed": false,
    "scrolled": true
   },
   "outputs": [
    {
     "data": {
      "text/plain": [
       "[(0, 1, 2)]"
      ]
     },
     "execution_count": 17,
     "metadata": {},
     "output_type": "execute_result"
    }
   ],
   "source": [
    "C = sum([append_set(pair_sup_mis(group.values), name) for name, group in Ls.groupby(list(range(len(F)-1)))[len(F)-1]], [])\n",
    "C = prune_candidate(C)\n",
    "C"
   ]
  },
  {
   "cell_type": "code",
   "execution_count": 18,
   "metadata": {
    "collapsed": false
   },
   "outputs": [
    {
     "data": {
      "text/plain": [
       "[[(0,), (1,), (3,), (4,), (5,), (6,), (7,)],\n",
       " [(0, 1), (0, 2), (1, 2), (3, 7), (4, 6), (5, 10)],\n",
       " [(0, 1, 2)]]"
      ]
     },
     "execution_count": 18,
     "metadata": {},
     "output_type": "execute_result"
    }
   ],
   "source": [
    "F.append(frequent(C))\n",
    "F"
   ]
  },
  {
   "cell_type": "code",
   "execution_count": 19,
   "metadata": {
    "collapsed": false
   },
   "outputs": [
    {
     "data": {
      "text/plain": [
       "[[(6,)], [(4, 6), (5, 10)], []]"
      ]
     },
     "execution_count": 19,
     "metadata": {},
     "output_type": "execute_result"
    }
   ],
   "source": [
    "F_prune = [[j for j in i if any(k in j for k in x_must) & ~any(set(k).issubset(j) for k in x_exclude)] for i in F]\n",
    "F_prune"
   ]
  },
  {
   "cell_type": "code",
   "execution_count": 20,
   "metadata": {
    "collapsed": false,
    "scrolled": true
   },
   "outputs": [
    {
     "data": {
      "text/plain": [
       "[[('20',)], [('80', '20'), ('90', '50')], []]"
      ]
     },
     "execution_count": 20,
     "metadata": {},
     "output_type": "execute_result"
    }
   ],
   "source": [
    "[id_name(i) for i in F_prune]"
   ]
  },
  {
   "cell_type": "code",
   "execution_count": 21,
   "metadata": {
    "collapsed": false
   },
   "outputs": [
    {
     "data": {
      "text/plain": [
       "{(0,): 0.16666666666666666,\n",
       " (0, 1): 0.16666666666666666,\n",
       " (0, 1, 2): 0.16666666666666666,\n",
       " (0, 2): 0.16666666666666666,\n",
       " (1,): 0.16666666666666666,\n",
       " (1, 2): 0.16666666666666666,\n",
       " (2,): 0.16666666666666666,\n",
       " (3,): 0.5,\n",
       " (3, 7): 0.33333333333333331,\n",
       " (4,): 1.0,\n",
       " (4, 6): 1.0,\n",
       " (5,): 0.33333333333333331,\n",
       " (5, 10): 0.33333333333333331,\n",
       " (5, 11): 0.0,\n",
       " (6,): 1.0,\n",
       " (7,): 0.5,\n",
       " (8,): 0.0,\n",
       " (9,): 0.0,\n",
       " (10,): 0.33333333333333331,\n",
       " (11,): 0.33333333333333331}"
      ]
     },
     "execution_count": 21,
     "metadata": {},
     "output_type": "execute_result"
    }
   ],
   "source": [
    "sup_dict"
   ]
  },
  {
   "cell_type": "code",
   "execution_count": null,
   "metadata": {
    "collapsed": true
   },
   "outputs": [],
   "source": []
  }
 ],
 "metadata": {
  "anaconda-cloud": {},
  "kernelspec": {
   "display_name": "Python [conda root]",
   "language": "python",
   "name": "conda-root-py"
  },
  "language_info": {
   "codemirror_mode": {
    "name": "ipython",
    "version": 3
   },
   "file_extension": ".py",
   "mimetype": "text/x-python",
   "name": "python",
   "nbconvert_exporter": "python",
   "pygments_lexer": "ipython3",
   "version": "3.5.2"
  }
 },
 "nbformat": 4,
 "nbformat_minor": 1
}

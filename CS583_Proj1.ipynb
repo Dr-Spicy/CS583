{
 "cells": [
  {
   "cell_type": "code",
   "execution_count": 6,
   "metadata": {
    "collapsed": false
   },
   "outputs": [
    {
     "name": "stdout",
     "output_type": "stream",
     "text": [
      "/mnt/c/Users/recre/OneDrive/CS583\n"
     ]
    }
   ],
   "source": [
    "%cd /mnt/c/Users/recre/OneDrive/CS583"
   ]
  },
  {
   "cell_type": "code",
   "execution_count": 353,
   "metadata": {
    "collapsed": true
   },
   "outputs": [],
   "source": [
    "import numpy as np\n",
    "import pandas as pd\n",
    "import numba as nb"
   ]
  },
  {
   "cell_type": "code",
   "execution_count": 268,
   "metadata": {
    "collapsed": false
   },
   "outputs": [
    {
     "data": {
      "text/plain": [
       "0                   {20, 30, 80, 70, 50, 90}\n",
       "1                           {20, 10, 80, 70}\n",
       "2                               {10, 20, 80}\n",
       "3                               {20, 30, 80}\n",
       "4                                   {20, 80}\n",
       "5    {20, 30, 80, 70, 50, 90, 100, 120, 140}\n",
       "Name: 0, dtype: object"
      ]
     },
     "execution_count": 268,
     "metadata": {},
     "output_type": "execute_result"
    }
   ],
   "source": [
    "s = pd.read_csv(\"proj1_input-data.txt\", header = None, sep = \"\\t\",squeeze = True)\n",
    "s"
   ]
  },
  {
   "cell_type": "code",
   "execution_count": 254,
   "metadata": {
    "collapsed": false
   },
   "outputs": [
    {
     "data": {
      "text/html": [
       "<div>\n",
       "<table border=\"1\" class=\"dataframe\">\n",
       "  <thead>\n",
       "    <tr style=\"text-align: right;\">\n",
       "      <th></th>\n",
       "      <th>10</th>\n",
       "      <th>20</th>\n",
       "      <th>30</th>\n",
       "      <th>50</th>\n",
       "      <th>70</th>\n",
       "      <th>80</th>\n",
       "      <th>90</th>\n",
       "      <th>100</th>\n",
       "      <th>120</th>\n",
       "      <th>140</th>\n",
       "    </tr>\n",
       "  </thead>\n",
       "  <tbody>\n",
       "    <tr>\n",
       "      <th>0</th>\n",
       "      <td>0</td>\n",
       "      <td>1</td>\n",
       "      <td>1</td>\n",
       "      <td>1</td>\n",
       "      <td>1</td>\n",
       "      <td>1</td>\n",
       "      <td>1</td>\n",
       "      <td>0</td>\n",
       "      <td>0</td>\n",
       "      <td>0</td>\n",
       "    </tr>\n",
       "    <tr>\n",
       "      <th>1</th>\n",
       "      <td>1</td>\n",
       "      <td>1</td>\n",
       "      <td>0</td>\n",
       "      <td>0</td>\n",
       "      <td>1</td>\n",
       "      <td>1</td>\n",
       "      <td>0</td>\n",
       "      <td>0</td>\n",
       "      <td>0</td>\n",
       "      <td>0</td>\n",
       "    </tr>\n",
       "    <tr>\n",
       "      <th>2</th>\n",
       "      <td>1</td>\n",
       "      <td>1</td>\n",
       "      <td>0</td>\n",
       "      <td>0</td>\n",
       "      <td>0</td>\n",
       "      <td>1</td>\n",
       "      <td>0</td>\n",
       "      <td>0</td>\n",
       "      <td>0</td>\n",
       "      <td>0</td>\n",
       "    </tr>\n",
       "    <tr>\n",
       "      <th>3</th>\n",
       "      <td>0</td>\n",
       "      <td>1</td>\n",
       "      <td>1</td>\n",
       "      <td>0</td>\n",
       "      <td>0</td>\n",
       "      <td>1</td>\n",
       "      <td>0</td>\n",
       "      <td>0</td>\n",
       "      <td>0</td>\n",
       "      <td>0</td>\n",
       "    </tr>\n",
       "    <tr>\n",
       "      <th>4</th>\n",
       "      <td>0</td>\n",
       "      <td>1</td>\n",
       "      <td>0</td>\n",
       "      <td>0</td>\n",
       "      <td>0</td>\n",
       "      <td>1</td>\n",
       "      <td>0</td>\n",
       "      <td>0</td>\n",
       "      <td>0</td>\n",
       "      <td>0</td>\n",
       "    </tr>\n",
       "    <tr>\n",
       "      <th>5</th>\n",
       "      <td>0</td>\n",
       "      <td>1</td>\n",
       "      <td>1</td>\n",
       "      <td>1</td>\n",
       "      <td>1</td>\n",
       "      <td>1</td>\n",
       "      <td>1</td>\n",
       "      <td>1</td>\n",
       "      <td>1</td>\n",
       "      <td>1</td>\n",
       "    </tr>\n",
       "  </tbody>\n",
       "</table>\n",
       "</div>"
      ],
      "text/plain": [
       "   10   20   30   50   70   80   90   100  120  140\n",
       "0    0    1    1    1    1    1    1    0    0    0\n",
       "1    1    1    0    0    1    1    0    0    0    0\n",
       "2    1    1    0    0    0    1    0    0    0    0\n",
       "3    0    1    1    0    0    1    0    0    0    0\n",
       "4    0    1    0    0    0    1    0    0    0    0\n",
       "5    0    1    1    1    1    1    1    1    1    1"
      ]
     },
     "execution_count": 254,
     "metadata": {},
     "output_type": "execute_result"
    }
   ],
   "source": [
    "da = s.str[1:-1].str.get_dummies(sep = \", \").astype(\"int8\").rename(columns = lambda x: int(x)).sort_index(axis = 1)\n",
    "da"
   ]
  },
  {
   "cell_type": "code",
   "execution_count": 156,
   "metadata": {
    "collapsed": false
   },
   "outputs": [
    {
     "data": {
      "text/plain": [
       "['MIS(10) = 0.43',\n",
       " 'MIS(20) = 0.30',\n",
       " 'MIS(30) = 0.30',\n",
       " 'MIS(40) = 0.40',\n",
       " 'MIS(50) = 0.40',\n",
       " 'MIS(60) = 0.30',\n",
       " 'MIS(70) = 0.20',\n",
       " 'MIS(80) = 0.20',\n",
       " 'MIS(90) = 0.20',\n",
       " 'MIS(100) = 0.10',\n",
       " 'MIS(120) = 0.20',\n",
       " 'MIS(140) = 0.15',\n",
       " 'SDC = 0.1',\n",
       " 'cannot_be_together: {20, 40}, {70, 80}',\n",
       " 'must-have: 20 or 40 or 50']"
      ]
     },
     "execution_count": 156,
     "metadata": {},
     "output_type": "execute_result"
    }
   ],
   "source": [
    "argl = [i.rstrip(\"\\n\") for i in open(\"proj1_parameter-file.txt\", \"r\")]\n",
    "argl"
   ]
  },
  {
   "cell_type": "code",
   "execution_count": 255,
   "metadata": {
    "collapsed": false
   },
   "outputs": [
    {
     "data": {
      "text/plain": [
       "10     0.43\n",
       "20     0.30\n",
       "30     0.30\n",
       "40     0.40\n",
       "50     0.40\n",
       "60     0.30\n",
       "70     0.20\n",
       "80     0.20\n",
       "90     0.20\n",
       "100    0.10\n",
       "120    0.20\n",
       "140    0.15\n",
       "dtype: float64"
      ]
     },
     "execution_count": 255,
     "metadata": {},
     "output_type": "execute_result"
    }
   ],
   "source": [
    "ms = pd.Series(dict([(int(j[0][4:-1]), float(j[1])) for j in [i.split(\" = \") for i in argl if i.startswith(\"MIS\")]]))\n",
    "ms"
   ]
  },
  {
   "cell_type": "code",
   "execution_count": 286,
   "metadata": {
    "collapsed": true
   },
   "outputs": [],
   "source": [
    "def mis(L):\n",
    "    op = np.array([ms[i].min() for i in L])\n",
    "    return(op)"
   ]
  },
  {
   "cell_type": "code",
   "execution_count": 293,
   "metadata": {
    "collapsed": false
   },
   "outputs": [],
   "source": [
    "def support(L):\n",
    "    op = pd.concat([da.loc[:, i].all(axis = 1) for i in L], axis = 1).mean().values\n",
    "    return(op)"
   ]
  },
  {
   "cell_type": "code",
   "execution_count": 390,
   "metadata": {
    "collapsed": false
   },
   "outputs": [
    {
     "data": {
      "text/plain": [
       "array([0, 1, 2, 3, 4, 5, 6, 7, 8, 9])"
      ]
     },
     "execution_count": 390,
     "metadata": {},
     "output_type": "execute_result"
    }
   ],
   "source": [
    "np.arange(da.shape[1])"
   ]
  },
  {
   "cell_type": "code",
   "execution_count": 306,
   "metadata": {
    "collapsed": false
   },
   "outputs": [
    {
     "data": {
      "text/plain": [
       "array([[ 10],\n",
       "       [ 20],\n",
       "       [ 30],\n",
       "       [ 50],\n",
       "       [ 70],\n",
       "       [ 80],\n",
       "       [ 90],\n",
       "       [100],\n",
       "       [120],\n",
       "       [140]])"
      ]
     },
     "execution_count": 306,
     "metadata": {},
     "output_type": "execute_result"
    }
   ],
   "source": [
    "L = np.array([[i] for i in da.columns[da.mean() > ms.min()]])\n",
    "L"
   ]
  },
  {
   "cell_type": "code",
   "execution_count": 307,
   "metadata": {
    "collapsed": false
   },
   "outputs": [
    {
     "data": {
      "text/plain": [
       "array([ 0.33333333,  1.        ,  0.5       ,  0.33333333,  0.5       ,\n",
       "        1.        ,  0.33333333,  0.16666667,  0.16666667,  0.16666667])"
      ]
     },
     "execution_count": 307,
     "metadata": {},
     "output_type": "execute_result"
    }
   ],
   "source": [
    "Lcount = support(L)\n",
    "Lcount"
   ]
  },
  {
   "cell_type": "code",
   "execution_count": 409,
   "metadata": {
    "collapsed": false
   },
   "outputs": [
    {
     "data": {
      "text/plain": [
       "array([ 0.43,  0.3 ,  0.3 ,  0.4 ,  0.2 ,  0.2 ,  0.2 ,  0.1 ,  0.2 ,  0.15])"
      ]
     },
     "execution_count": 409,
     "metadata": {},
     "output_type": "execute_result"
    }
   ],
   "source": [
    "Lmis = mis(L)\n",
    "Lmis"
   ]
  },
  {
   "cell_type": "code",
   "execution_count": 411,
   "metadata": {
    "collapsed": false
   },
   "outputs": [
    {
     "data": {
      "text/plain": [
       "[array([[ 20],\n",
       "        [ 30],\n",
       "        [ 70],\n",
       "        [ 80],\n",
       "        [ 90],\n",
       "        [100],\n",
       "        [140]])]"
      ]
     },
     "execution_count": 411,
     "metadata": {},
     "output_type": "execute_result"
    }
   ],
   "source": [
    "F = [L[Lcount > Lmis]]\n",
    "F"
   ]
  },
  {
   "cell_type": "code",
   "execution_count": 469,
   "metadata": {
    "collapsed": false
   },
   "outputs": [
    {
     "data": {
      "text/html": [
       "<div>\n",
       "<table border=\"1\" class=\"dataframe\">\n",
       "  <thead>\n",
       "    <tr style=\"text-align: right;\">\n",
       "      <th></th>\n",
       "      <th>MIS</th>\n",
       "      <th>Support</th>\n",
       "    </tr>\n",
       "  </thead>\n",
       "  <tbody>\n",
       "    <tr>\n",
       "      <th>10</th>\n",
       "      <td>0.43</td>\n",
       "      <td>0.333333</td>\n",
       "    </tr>\n",
       "    <tr>\n",
       "      <th>20</th>\n",
       "      <td>0.30</td>\n",
       "      <td>1.000000</td>\n",
       "    </tr>\n",
       "    <tr>\n",
       "      <th>30</th>\n",
       "      <td>0.30</td>\n",
       "      <td>0.500000</td>\n",
       "    </tr>\n",
       "    <tr>\n",
       "      <th>50</th>\n",
       "      <td>0.40</td>\n",
       "      <td>0.333333</td>\n",
       "    </tr>\n",
       "    <tr>\n",
       "      <th>70</th>\n",
       "      <td>0.20</td>\n",
       "      <td>0.500000</td>\n",
       "    </tr>\n",
       "    <tr>\n",
       "      <th>80</th>\n",
       "      <td>0.20</td>\n",
       "      <td>1.000000</td>\n",
       "    </tr>\n",
       "    <tr>\n",
       "      <th>90</th>\n",
       "      <td>0.20</td>\n",
       "      <td>0.333333</td>\n",
       "    </tr>\n",
       "    <tr>\n",
       "      <th>100</th>\n",
       "      <td>0.10</td>\n",
       "      <td>0.166667</td>\n",
       "    </tr>\n",
       "    <tr>\n",
       "      <th>120</th>\n",
       "      <td>0.20</td>\n",
       "      <td>0.166667</td>\n",
       "    </tr>\n",
       "    <tr>\n",
       "      <th>140</th>\n",
       "      <td>0.15</td>\n",
       "      <td>0.166667</td>\n",
       "    </tr>\n",
       "  </tbody>\n",
       "</table>\n",
       "</div>"
      ],
      "text/plain": [
       "      MIS   Support\n",
       "10   0.43  0.333333\n",
       "20   0.30  1.000000\n",
       "30   0.30  0.500000\n",
       "50   0.40  0.333333\n",
       "70   0.20  0.500000\n",
       "80   0.20  1.000000\n",
       "90   0.20  0.333333\n",
       "100  0.10  0.166667\n",
       "120  0.20  0.166667\n",
       "140  0.15  0.166667"
      ]
     },
     "execution_count": 469,
     "metadata": {},
     "output_type": "execute_result"
    }
   ],
   "source": [
    "pd.DataFrame({\"MIS\": Lmis, \"Support\": Lcount}, index = Lflat)"
   ]
  },
  {
   "cell_type": "code",
   "execution_count": 478,
   "metadata": {
    "collapsed": true
   },
   "outputs": [],
   "source": [
    "def l2_candidate_gen(L, phi = 1):\n",
    "    Lflat = L.flatten()\n",
    "    Lsub = Lflat[Lcount > Lmis]\n",
    "    c_mat = sp.coo_matrix(np.tril((np.add.outer(Lcount, -Lmis) > 0) & (np.abs(np.add.outer(Lcount, -Lcount)) < phi), -1))\n",
    "    c = pd.DataFrame({\"h\": Lflat[c_mat.row], \"l\": Lflat[c_mat.col]})\n",
    "    c = c[c[\"l\"].isin(Lsub)]\n",
    "    op = np.array(c[[\"l\", \"h\"]].to_records(index = False).tolist())\n",
    "    return(op)"
   ]
  },
  {
   "cell_type": "code",
   "execution_count": null,
   "metadata": {
    "collapsed": true
   },
   "outputs": [],
   "source": [
    "def ms_candidate_gen(L, phi = 1):\n",
    "    "
   ]
  },
  {
   "cell_type": "code",
   "execution_count": 479,
   "metadata": {
    "collapsed": false
   },
   "outputs": [
    {
     "data": {
      "text/plain": [
       "array([[ 20,  30],\n",
       "       [ 20,  50],\n",
       "       [ 30,  50],\n",
       "       [ 20,  70],\n",
       "       [ 30,  70],\n",
       "       [ 20,  80],\n",
       "       [ 30,  80],\n",
       "       [ 70,  80],\n",
       "       [ 20,  90],\n",
       "       [ 30,  90],\n",
       "       [ 70,  90],\n",
       "       [ 80,  90],\n",
       "       [100, 120],\n",
       "       [100, 140]])"
      ]
     },
     "execution_count": 479,
     "metadata": {},
     "output_type": "execute_result"
    }
   ],
   "source": [
    "c = l2_candidate_gen(L)\n",
    "c"
   ]
  },
  {
   "cell_type": "code",
   "execution_count": 480,
   "metadata": {
    "collapsed": false
   },
   "outputs": [
    {
     "data": {
      "text/plain": [
       "array([[ 20,  30],\n",
       "       [ 20,  50],\n",
       "       [ 30,  50],\n",
       "       [ 20,  70],\n",
       "       [ 30,  70],\n",
       "       [ 20,  80],\n",
       "       [ 30,  80],\n",
       "       [ 70,  80],\n",
       "       [ 20,  90],\n",
       "       [ 30,  90],\n",
       "       [ 70,  90],\n",
       "       [ 80,  90],\n",
       "       [100, 120],\n",
       "       [100, 140]])"
      ]
     },
     "execution_count": 480,
     "metadata": {},
     "output_type": "execute_result"
    }
   ],
   "source": [
    "c[support(c) >= mis(c)]"
   ]
  },
  {
   "cell_type": "code",
   "execution_count": 483,
   "metadata": {
    "collapsed": false
   },
   "outputs": [],
   "source": [
    "F.append(c[support(c) >= mis(c)])"
   ]
  },
  {
   "cell_type": "code",
   "execution_count": 484,
   "metadata": {
    "collapsed": false
   },
   "outputs": [
    {
     "data": {
      "text/plain": [
       "array([[ 20,  30],\n",
       "       [ 20,  50],\n",
       "       [ 30,  50],\n",
       "       [ 20,  70],\n",
       "       [ 30,  70],\n",
       "       [ 20,  80],\n",
       "       [ 30,  80],\n",
       "       [ 70,  80],\n",
       "       [ 20,  90],\n",
       "       [ 30,  90],\n",
       "       [ 70,  90],\n",
       "       [ 80,  90],\n",
       "       [100, 120],\n",
       "       [100, 140]])"
      ]
     },
     "execution_count": 484,
     "metadata": {},
     "output_type": "execute_result"
    }
   ],
   "source": [
    "F[-1]"
   ]
  },
  {
   "cell_type": "code",
   "execution_count": 482,
   "metadata": {
    "collapsed": false
   },
   "outputs": [
    {
     "data": {
      "text/plain": [
       "array([ 0.5       ,  0.33333333,  0.33333333,  0.5       ,  0.5       ,\n",
       "        1.        ,  1.        ,  1.        ,  0.33333333,  0.33333333,\n",
       "        0.33333333,  0.33333333,  0.16666667,  0.16666667])"
      ]
     },
     "execution_count": 482,
     "metadata": {},
     "output_type": "execute_result"
    }
   ],
   "source": [
    "support(c[:,1:])"
   ]
  },
  {
   "cell_type": "code",
   "execution_count": null,
   "metadata": {
    "collapsed": true
   },
   "outputs": [],
   "source": []
  }
 ],
 "metadata": {
  "anaconda-cloud": {},
  "kernelspec": {
   "display_name": "Python [conda root]",
   "language": "python",
   "name": "conda-root-py"
  },
  "language_info": {
   "codemirror_mode": {
    "name": "ipython",
    "version": 3
   },
   "file_extension": ".py",
   "mimetype": "text/x-python",
   "name": "python",
   "nbconvert_exporter": "python",
   "pygments_lexer": "ipython3",
   "version": "3.5.2"
  }
 },
 "nbformat": 4,
 "nbformat_minor": 1
}
